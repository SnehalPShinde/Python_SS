{
 "cells": [
  {
   "cell_type": "markdown",
   "id": "f2999c95",
   "metadata": {},
   "source": [
    "# Imported Libraries\n",
    "Tkinter library is used to create GUI(Graphical User Interface) and provides set of tools for creating GUI applications"
   ]
  },
  {
   "cell_type": "code",
   "execution_count": 17,
   "id": "574d2564",
   "metadata": {},
   "outputs": [],
   "source": [
    "from tkinter import *"
   ]
  },
  {
   "cell_type": "code",
   "execution_count": 18,
   "id": "cd9274f5",
   "metadata": {},
   "outputs": [],
   "source": [
    "from PIL import ImageTk, Image"
   ]
  },
  {
   "cell_type": "code",
   "execution_count": 22,
   "id": "a89de8f7",
   "metadata": {},
   "outputs": [],
   "source": [
    "def rotate_image():\n",
    "    global counter\n",
    "    img_label.config(image=img_array[counter%len(img_array)])\n",
    "    counter = counter + 1\n",
    "\n",
    "counter = 1\n",
    "\n",
    "root = Tk()             #Create a object\n",
    "\n",
    "root.title(\"Background Images\")      \n",
    "\n",
    "root.geometry(\"400x500\")     # Size of the Box\n",
    "\n",
    "root.configure(background='black')           #Backgroung color"
   ]
  },
  {
   "cell_type": "code",
   "execution_count": 23,
   "id": "8d7ae629",
   "metadata": {
    "collapsed": true
   },
   "outputs": [
    {
     "data": {
      "text/plain": [
       "['download (1).jpeg',\n",
       " 'download (2).jpeg',\n",
       " 'download (3).jpeg',\n",
       " 'download (4).jpeg',\n",
       " 'download (5).jpeg',\n",
       " 'download (6).jpeg',\n",
       " 'download (7).jpeg',\n",
       " 'download (8).jpeg',\n",
       " 'download.jpeg',\n",
       " 'images (1).jpeg',\n",
       " 'images (2).jpeg',\n",
       " 'images (3).jpeg',\n",
       " 'images.jpeg']"
      ]
     },
     "execution_count": 23,
     "metadata": {},
     "output_type": "execute_result"
    }
   ],
   "source": [
    "files= os.listdir(r\"C:\\Users\\shrik\\OneDrive\\Desktop\\BackGround Images\")\n",
    "files"
   ]
  },
  {
   "cell_type": "code",
   "execution_count": 20,
   "id": "7f9a512b",
   "metadata": {},
   "outputs": [],
   "source": [
    "img_array = []            #Initialize an Empty list\n",
    "\n",
    "for file in files:        #Loop\n",
    "    try:\n",
    "        img = Image.open(os.path.join(r\"C:\\Users\\shrik\\OneDrive\\Desktop\\BackGround Images\", file))\n",
    "        \n",
    "        resized_img = img.resize((200, 300))    #Resizing the images\n",
    "        \n",
    "        img_array.append(ImageTk.PhotoImage(resized_img))       #Storing resized images in img_array list\n",
    "        \n",
    "    except Exception as e:\n",
    "        \n",
    "        print(f\"Error loading image: {e}\")\n",
    "\n",
    "img_label = Label(root, image=img_array[0])         #Displays 1st Image\n",
    "\n",
    "img_label.pack(pady=(15,10))\n",
    "\n",
    "#Button is created to display next image\n",
    "#Bg=Backgroung color, Fg=foreground color\n",
    "#Command: When next button is clicked it will execute rotate_image function\n",
    "next_btn = Button(root,text='Next',bg='white',fg='black',width=28,height=2,command=rotate_image)    \n",
    "\n",
    "next_btn.pack()\n",
    "\n",
    "root.mainloop()"
   ]
  },
  {
   "cell_type": "code",
   "execution_count": null,
   "id": "3a552514",
   "metadata": {},
   "outputs": [],
   "source": []
  }
 ],
 "metadata": {
  "kernelspec": {
   "display_name": "Python 3 (ipykernel)",
   "language": "python",
   "name": "python3"
  },
  "language_info": {
   "codemirror_mode": {
    "name": "ipython",
    "version": 3
   },
   "file_extension": ".py",
   "mimetype": "text/x-python",
   "name": "python",
   "nbconvert_exporter": "python",
   "pygments_lexer": "ipython3",
   "version": "3.10.9"
  }
 },
 "nbformat": 4,
 "nbformat_minor": 5
}
