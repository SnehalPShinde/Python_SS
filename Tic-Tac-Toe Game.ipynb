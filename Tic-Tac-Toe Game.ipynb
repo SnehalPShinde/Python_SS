{
 "cells": [
  {
   "cell_type": "code",
   "execution_count": 1,
   "id": "f63b5756",
   "metadata": {},
   "outputs": [],
   "source": [
    "#Created a list with 9 empty spaces\n",
    "board = [' ' for _ in range(9)]"
   ]
  },
  {
   "cell_type": "code",
   "execution_count": 2,
   "id": "609a99c0",
   "metadata": {},
   "outputs": [],
   "source": [
    "#print_board() prints the board in a simple for\n",
    "def print_board():\n",
    "    row1 = f\"| {board[0]} | {board[1]} | {board[2]} |\"\n",
    "    row2 = f\"| {board[3]} | {board[4]} | {board[5]} |\"\n",
    "    row3 = f\"| {board[6]} | {board[7]} | {board[8]} |\"\n",
    "    \n",
    "    print()\n",
    "    print(row1)\n",
    "    print(row2)\n",
    "    print(row3)\n",
    "    print()\n"
   ]
  },
  {
   "cell_type": "code",
   "execution_count": 3,
   "id": "ffd1db88",
   "metadata": {},
   "outputs": [],
   "source": [
    "# check_winner(player) checks all the possible winning combinations to see if the player has won.\n",
    "# Rows: (0, 1, 2), (3, 4, 5), (6, 7, 8)\n",
    "# Columns: (0, 3, 6), (1, 4, 7), (2, 5, 8)\n",
    "# Diagonals: (0, 4, 8), (2, 4, 6)\n",
    "\n",
    "\n",
    "def check_winner(player):\n",
    "    \n",
    "    win_cond = [(0, 1, 2), (3, 4, 5), (6, 7, 8), (0, 3, 6), (1, 4, 7), (2, 5, 8), (0, 4, 8), (2, 4, 6)]\n",
    "    for cond in win_cond:\n",
    "        if board[cond[0]] == board[cond[1]] == board[cond[2]] == player:\n",
    "            return True\n",
    "    return False"
   ]
  },
  {
   "cell_type": "code",
   "execution_count": 4,
   "id": "5aa0746e",
   "metadata": {},
   "outputs": [],
   "source": [
    "# check_draw() returns True if there are no empty spaces left, indicating a draw.\n",
    "\n",
    "def check_draw():\n",
    "    return ' ' not in board"
   ]
  },
  {
   "cell_type": "code",
   "execution_count": 5,
   "id": "a246ea17",
   "metadata": {},
   "outputs": [],
   "source": [
    "def player_move():\n",
    "    while True:\n",
    "        move = int(input(\"Enter your move (1-9): \")) - 1    # Ask player to enter a move (1-9)\n",
    "        if board[move] == ' ':                              # Check if the chosen position on the board is empty\n",
    "            board[move] = 'X'                               # If the position is empty, place the player's 'X' in that position\n",
    "            break\n",
    "        else:\n",
    "            print(\"Invalid move, try again.\")               # If the position is already taken, ask for another move"
   ]
  },
  {
   "cell_type": "code",
   "execution_count": 6,
   "id": "a2027a87",
   "metadata": {},
   "outputs": [],
   "source": [
    "def ai_move():\n",
    "    for i in range(9):                                   # Loop through all the positions on the board (index 0 to 8)\n",
    "        if board[i] == ' ':                              # Check if the current position is empty (marked by a space ' ')\n",
    "            board[i] = 'O'                               # If empty, place the AI's marker ('O') in that position\n",
    "            break\n"
   ]
  },
  {
   "cell_type": "code",
   "execution_count": 7,
   "id": "190169b2",
   "metadata": {},
   "outputs": [
    {
     "name": "stdout",
     "output_type": "stream",
     "text": [
      "Welcome to Tic-Tac-Toe!\n",
      "\n",
      "|   |   |   |\n",
      "|   |   |   |\n",
      "|   |   |   |\n",
      "\n",
      "Enter your move (1-9): 3\n",
      "\n",
      "|   |   | X |\n",
      "|   |   |   |\n",
      "|   |   |   |\n",
      "\n",
      "\n",
      "| O |   | X |\n",
      "|   |   |   |\n",
      "|   |   |   |\n",
      "\n",
      "Enter your move (1-9): 6\n",
      "\n",
      "| O |   | X |\n",
      "|   |   | X |\n",
      "|   |   |   |\n",
      "\n",
      "\n",
      "| O | O | X |\n",
      "|   |   | X |\n",
      "|   |   |   |\n",
      "\n",
      "Enter your move (1-9): 9\n",
      "\n",
      "| O | O | X |\n",
      "|   |   | X |\n",
      "|   |   | X |\n",
      "\n",
      "Congratulations! You win!\n"
     ]
    }
   ],
   "source": [
    "def main():\n",
    "    print(\"Welcome to Tic-Tac-Toe!\")\n",
    "    print_board()\n",
    "\n",
    "    while True:\n",
    "        # Player's turn\n",
    "        player_move()                                     # Function is called. player to input their move\n",
    "        print_board()                                     # to display the updated game board with the player's move.\n",
    "        if check_winner('X'):\n",
    "            print(\"Congratulations! You win!\")            # If player Wins\n",
    "            break\n",
    "        if check_draw():\n",
    "            print(\"It's a draw!\")                         # Game board is full but no one has won                 \n",
    "            break\n",
    "\n",
    "        # AI's turn                                       # Function is called. AI to input their move\n",
    "        ai_move()\n",
    "        print_board()                                     # to display the updated game board with the player's move.\n",
    "        if check_winner('O'):\n",
    "            print(\"AI wins! Better luck next time.\")      # If AI Wins\n",
    "            break\n",
    "        if check_draw():                                  # Game board is full but no one has won     \n",
    "            print(\"It's a draw!\")\n",
    "            break\n",
    "\n",
    "if __name__ == \"__main__\":\n",
    "    main()"
   ]
  },
  {
   "cell_type": "code",
   "execution_count": null,
   "id": "c9753fcc",
   "metadata": {},
   "outputs": [],
   "source": []
  }
 ],
 "metadata": {
  "kernelspec": {
   "display_name": "Python 3 (ipykernel)",
   "language": "python",
   "name": "python3"
  },
  "language_info": {
   "codemirror_mode": {
    "name": "ipython",
    "version": 3
   },
   "file_extension": ".py",
   "mimetype": "text/x-python",
   "name": "python",
   "nbconvert_exporter": "python",
   "pygments_lexer": "ipython3",
   "version": "3.10.9"
  }
 },
 "nbformat": 4,
 "nbformat_minor": 5
}
