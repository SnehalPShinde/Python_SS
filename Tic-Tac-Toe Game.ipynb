{
 "cells": [
  {
   "cell_type": "code",
   "execution_count": 1,
   "id": "0533ab76",
   "metadata": {},
   "outputs": [],
   "source": [
    "#Created a list with 9 empty spaces\n",
    "board = [' ' for _ in range(9)]"
   ]
  },
  {
   "cell_type": "code",
   "execution_count": 2,
   "id": "d196a6b2",
   "metadata": {},
   "outputs": [],
   "source": [
    "#print_board() prints the board in a simple for\n",
    "def print_board():\n",
    "    row1 = f\"| {board[0]} | {board[1]} | {board[2]} |\"\n",
    "    row2 = f\"| {board[3]} | {board[4]} | {board[5]} |\"\n",
    "    row3 = f\"| {board[6]} | {board[7]} | {board[8]} |\"\n",
    "    \n",
    "    print()\n",
    "    print(row1)\n",
    "    print(row2)\n",
    "    print(row3)\n",
    "    print()\n"
   ]
  },
  {
   "cell_type": "code",
   "execution_count": 3,
   "id": "66a6a4ae",
   "metadata": {},
   "outputs": [],
   "source": [
    "# check_winner(player) checks all the possible winning combinations to see if the player has won.\n",
    "# Rows: (0, 1, 2), (3, 4, 5), (6, 7, 8)\n",
    "# Columns: (0, 3, 6), (1, 4, 7), (2, 5, 8)\n",
    "# Diagonals: (0, 4, 8), (2, 4, 6)"
   ]
  },
  {
   "cell_type": "code",
   "execution_count": 4,
   "id": "4829e041",
   "metadata": {},
   "outputs": [],
   "source": [
    "# check_winner(player) checks all the possible winning combinations to see if the player has won.\n",
    "def check_winner(player):\n",
    "    win_cond = [(0, 1, 2), (3, 4, 5), (6, 7, 8), (0, 3, 6), (1, 4, 7), (2, 5, 8), (0, 4, 8), (2, 4, 6)]\n",
    "    for i in win_cond:\n",
    "        if board[i[0]] == board[i[1]] == board[i[2]] == player:    # check weather the position is occupied by the player \n",
    "            return True          # Player has won\n",
    "    return False                 # Player has not won\n"
   ]
  },
  {
   "cell_type": "code",
   "execution_count": 5,
   "id": "d0e826c1",
   "metadata": {},
   "outputs": [],
   "source": [
    "# check_draw() returns True if there are no empty spaces left, indicating a draw.\n",
    "def check_draw():\n",
    "    return ' ' not in board\n"
   ]
  },
  {
   "cell_type": "code",
   "execution_count": 6,
   "id": "cc05d537",
   "metadata": {},
   "outputs": [],
   "source": [
    "# player_move function allows the human player to input a move (1-9)\n",
    "\n",
    "#If the chosen position is already occupied (board[move] != ' '), the function recursively asks for a valid move.\n",
    "\n",
    "def player_move():\n",
    "    move = int(input(\"Enter your move (1-9): \")) - 1\n",
    "    if board[move] != ' ':\n",
    "        print(\"Invalid move, try again.\")\n",
    "        player_move()\n",
    "    else:\n",
    "        board[move] = 'X'\n"
   ]
  },
  {
   "cell_type": "code",
   "execution_count": 7,
   "id": "d5ada696",
   "metadata": {},
   "outputs": [],
   "source": [
    "# The ai_move function determines the best possible move for the AI using the Minimax algorithm.\n",
    "def ai_move():\n",
    "    best_score = -1000\n",
    "    best_move = None\n",
    "\n",
    "    for i in range(9):\n",
    "        if board[i] == ' ':\n",
    "            board[i] = 'O'\n",
    "            score = minimax(board, 0, False)\n",
    "            board[i] = ' '\n",
    "            if score > best_score:\n",
    "                best_score = score\n",
    "                best_move = i\n",
    "\n",
    "    board[best_move] = 'O'\n"
   ]
  },
  {
   "cell_type": "code",
   "execution_count": 8,
   "id": "e2d36e52",
   "metadata": {},
   "outputs": [],
   "source": [
    "#The minimax function is a recursive function that evaluates the game tree to determine the best move.\n",
    "def minimax(board, depth, is_maximizing):\n",
    "    if check_winner('O'):\n",
    "        return 1\n",
    "    elif check_winner('X'):\n",
    "        return -1\n",
    "    elif check_draw():\n",
    "        return 0\n",
    "\n",
    "    if is_maximizing:\n",
    "        best_score = -1000\n",
    "        for i in range(9):\n",
    "            if board[i] == ' ':\n",
    "                board[i] = 'O'\n",
    "                score = minimax(board, depth + 1, False)\n",
    "                board[i] = ' '\n",
    "                best_score = max(score, best_score)\n",
    "        return best_score\n",
    "    else:\n",
    "        best_score = 1000\n",
    "        for i in range(9):\n",
    "            if board[i] == ' ':\n",
    "                board[i] = 'X'\n",
    "                score = minimax(board, depth + 1, True)\n",
    "                board[i] = ' '\n",
    "                best_score = min(score, best_score)\n",
    "        return best_score\n"
   ]
  },
  {
   "cell_type": "code",
   "execution_count": 9,
   "id": "18d6b097",
   "metadata": {},
   "outputs": [
    {
     "name": "stdout",
     "output_type": "stream",
     "text": [
      "Welcome to Tic-Tac-Toe!\n",
      "\n",
      "|   |   |   |\n",
      "|   |   |   |\n",
      "|   |   |   |\n",
      "\n"
     ]
    }
   ],
   "source": [
    "# The game begins by displaying a welcome message and the initial empty Tic-Tac-Toe board.\n",
    "\n",
    "print(\"Welcome to Tic-Tac-Toe!\")\n",
    "print_board()\n"
   ]
  },
  {
   "cell_type": "code",
   "execution_count": 10,
   "id": "c468804e",
   "metadata": {},
   "outputs": [
    {
     "name": "stdout",
     "output_type": "stream",
     "text": [
      "Enter your move (1-9): 6\n",
      "\n",
      "|   |   |   |\n",
      "|   |   | X |\n",
      "|   |   |   |\n",
      "\n",
      "\n",
      "|   |   | O |\n",
      "|   |   | X |\n",
      "|   |   |   |\n",
      "\n",
      "Enter your move (1-9): 1\n",
      "\n",
      "| X |   | O |\n",
      "|   |   | X |\n",
      "|   |   |   |\n",
      "\n",
      "\n",
      "| X |   | O |\n",
      "| O |   | X |\n",
      "|   |   |   |\n",
      "\n",
      "Enter your move (1-9): 9\n",
      "\n",
      "| X |   | O |\n",
      "| O |   | X |\n",
      "|   |   | X |\n",
      "\n",
      "\n",
      "| X |   | O |\n",
      "| O | O | X |\n",
      "|   |   | X |\n",
      "\n",
      "Enter your move (1-9): 7\n",
      "\n",
      "| X |   | O |\n",
      "| O | O | X |\n",
      "| X |   | X |\n",
      "\n",
      "\n",
      "| X |   | O |\n",
      "| O | O | X |\n",
      "| X | O | X |\n",
      "\n",
      "Enter your move (1-9): 2\n",
      "\n",
      "| X | X | O |\n",
      "| O | O | X |\n",
      "| X | O | X |\n",
      "\n",
      "It's a draw!\n"
     ]
    }
   ],
   "source": [
    "# The game continues to run inside a while True: loop, alternating turns between the player and the AI.\n",
    "#The player makes a move (player_move()), and the board is updated (print_board()).\n",
    "#The AI makes a move (ai_move()), and the board is updated.\n",
    "while True:\n",
    "    # Player's turn\n",
    "    player_move()\n",
    "    print_board()\n",
    "    if check_winner('X'):\n",
    "        print(\"Congratulations! You win!\")\n",
    "        break\n",
    "    if check_draw():\n",
    "        print(\"It's a draw!\")\n",
    "        break\n",
    "\n",
    "    # AI's turn\n",
    "    ai_move()\n",
    "    print_board()\n",
    "    if check_winner('O'):\n",
    "        print(\"AI wins! Better luck next time.\")\n",
    "        break\n",
    "    if check_draw():\n",
    "        print(\"It's a draw!\")\n",
    "        break\n"
   ]
  },
  {
   "cell_type": "code",
   "execution_count": null,
   "id": "12de40c9",
   "metadata": {},
   "outputs": [],
   "source": []
  }
 ],
 "metadata": {
  "kernelspec": {
   "display_name": "Python 3 (ipykernel)",
   "language": "python",
   "name": "python3"
  },
  "language_info": {
   "codemirror_mode": {
    "name": "ipython",
    "version": 3
   },
   "file_extension": ".py",
   "mimetype": "text/x-python",
   "name": "python",
   "nbconvert_exporter": "python",
   "pygments_lexer": "ipython3",
   "version": "3.10.9"
  }
 },
 "nbformat": 4,
 "nbformat_minor": 5
}
